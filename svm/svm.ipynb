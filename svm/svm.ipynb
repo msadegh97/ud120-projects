{
 "cells": [
  {
   "cell_type": "markdown",
   "metadata": {},
   "source": [
    "# SVM\n",
    "This is the code to accompany the Lesson 2 (SVM) mini-project.\n",
    "\n",
    "Use a SVM to identify emails from the Enron corpus by their authors:\n",
    "\n",
    "Sara has label 0 Chris has label 1"
   ]
  },
  {
   "cell_type": "code",
   "execution_count": 7,
   "metadata": {},
   "outputs": [],
   "source": [
    "    \n",
    "import sys\n",
    "from time import time\n",
    "sys.path.append(\"../tools/\")\n",
    "from email_preprocess import preprocess\n",
    "from sklearn.svm import SVC"
   ]
  },
  {
   "cell_type": "code",
   "execution_count": 4,
   "metadata": {},
   "outputs": [
    {
     "name": "stdout",
     "output_type": "stream",
     "text": [
      "no. of Chris training emails: 7936\n",
      "no. of Sara training emails: 7884\n"
     ]
    }
   ],
   "source": [
    "features_train, features_test, labels_train, labels_test = preprocess()"
   ]
  },
  {
   "cell_type": "code",
   "execution_count": 6,
   "metadata": {},
   "outputs": [
    {
     "name": "stdout",
     "output_type": "stream",
     "text": [
      "training time: 269.448566198 s\n",
      "linear kernel score: 0.984072810011\n",
      "pridict time: 22.8714962006 s\n"
     ]
    }
   ],
   "source": [
    "from sklearn.svm import SVC\n",
    "model=SVC(kernel='linear')\n",
    "t0=time()\n",
    "model.fit(features_train,labels_train)\n",
    "print \"training time:\",time()-t0,\"s\"\n",
    "t1=time()\n",
    "print \"linear kernel score:\" ,model.score(features_test,labels_test)\n",
    "print \"pridict time:\",time()-t1,\"s\""
   ]
  },
  {
   "cell_type": "markdown",
   "metadata": {},
   "source": [
    "# smaller trainnig set"
   ]
  },
  {
   "cell_type": "code",
   "execution_count": 5,
   "metadata": {},
   "outputs": [],
   "source": [
    "features_train_1per = features_train[:len(features_train)/100] \n",
    "labels_train_1per = labels_train[:len(labels_train)/100] "
   ]
  },
  {
   "cell_type": "code",
   "execution_count": 7,
   "metadata": {},
   "outputs": [
    {
     "name": "stdout",
     "output_type": "stream",
     "text": [
      "training time with small training set: 0.136447906494 s\n",
      "linear kernel score with small training set: 0.884527872582\n",
      "pridict time with small training set: 1.35759496689 s\n"
     ]
    }
   ],
   "source": [
    "t0=time()\n",
    "model.fit(features_train_1per,labels_train_1per)\n",
    "print \"training time with small training set:\",time()-t0,\"s\"\n",
    "t1=time()\n",
    "print \"linear kernel score with small training set:\" ,model.score(features_test,labels_test)\n",
    "print \"pridict time with small training set:\",time()-t1,\"s\""
   ]
  },
  {
   "cell_type": "markdown",
   "metadata": {},
   "source": [
    "# Use rbf kernel"
   ]
  },
  {
   "cell_type": "code",
   "execution_count": 8,
   "metadata": {},
   "outputs": [],
   "source": [
    "model_rbf=SVC(kernel='rbf')"
   ]
  },
  {
   "cell_type": "code",
   "execution_count": 11,
   "metadata": {},
   "outputs": [
    {
     "name": "stdout",
     "output_type": "stream",
     "text": [
      " rbf kernel score: 0.616040955631\n"
     ]
    }
   ],
   "source": [
    "model_rbf.fit(features_train_1per,labels_train_1per)\n",
    "print \"rbf kernel score:\",model_rbf.score(features_test,labels_test)"
   ]
  },
  {
   "cell_type": "code",
   "execution_count": 24,
   "metadata": {},
   "outputs": [
    {
     "name": "stdout",
     "output_type": "stream",
     "text": [
      "Fitting 3 folds for each of 4 candidates, totalling 12 fits\n",
      "[CV] kernel=rbf, C=10 ................................................\n",
      "[CV] ................. kernel=rbf, C=10, score=0.740741, total=   0.1s\n",
      "[CV] kernel=rbf, C=10 ................................................\n"
     ]
    },
    {
     "name": "stderr",
     "output_type": "stream",
     "text": [
      "[Parallel(n_jobs=1)]: Done   1 out of   1 | elapsed:    0.2s remaining:    0.0s\n",
      "[Parallel(n_jobs=1)]: Done   2 out of   2 | elapsed:    0.3s remaining:    0.0s\n"
     ]
    },
    {
     "name": "stdout",
     "output_type": "stream",
     "text": [
      "[CV] ................. kernel=rbf, C=10, score=0.576923, total=   0.1s\n",
      "[CV] kernel=rbf, C=10 ................................................\n",
      "[CV] ................. kernel=rbf, C=10, score=0.615385, total=   0.1s\n",
      "[CV] kernel=rbf, C=100 ...............................................\n",
      "[CV] ................ kernel=rbf, C=100, score=0.740741, total=   0.1s\n",
      "[CV] kernel=rbf, C=100 ...............................................\n",
      "[CV] ................ kernel=rbf, C=100, score=0.576923, total=   0.1s\n",
      "[CV] kernel=rbf, C=100 ...............................................\n",
      "[CV] ................ kernel=rbf, C=100, score=0.615385, total=   0.1s\n",
      "[CV] kernel=rbf, C=1000 ..............................................\n",
      "[CV] ............... kernel=rbf, C=1000, score=0.851852, total=   0.1s\n",
      "[CV] kernel=rbf, C=1000 ..............................................\n",
      "[CV] ............... kernel=rbf, C=1000, score=0.673077, total=   0.1s\n",
      "[CV] kernel=rbf, C=1000 ..............................................\n",
      "[CV] ............... kernel=rbf, C=1000, score=0.865385, total=   0.1s\n",
      "[CV] kernel=rbf, C=10000 .............................................\n",
      "[CV] .............. kernel=rbf, C=10000, score=0.870370, total=   0.1s\n",
      "[CV] kernel=rbf, C=10000 .............................................\n",
      "[CV] .............. kernel=rbf, C=10000, score=0.884615, total=   0.1s\n",
      "[CV] kernel=rbf, C=10000 .............................................\n",
      "[CV] .............. kernel=rbf, C=10000, score=0.961538, total=   0.1s\n"
     ]
    },
    {
     "name": "stderr",
     "output_type": "stream",
     "text": [
      "[Parallel(n_jobs=1)]: Done  12 out of  12 | elapsed:    1.9s finished\n"
     ]
    },
    {
     "data": {
      "text/plain": [
       "GridSearchCV(cv=None, error_score='raise',\n",
       "       estimator=SVC(C=1.0, cache_size=200, class_weight=None, coef0=0.0,\n",
       "  decision_function_shape=None, degree=3, gamma='auto', kernel='rbf',\n",
       "  max_iter=-1, probability=False, random_state=None, shrinking=True,\n",
       "  tol=0.001, verbose=False),\n",
       "       fit_params={}, iid=True, n_jobs=1,\n",
       "       param_grid={'kernel': ['rbf'], 'C': [10, 100, 1000, 10000]},\n",
       "       pre_dispatch='2*n_jobs', refit=True, return_train_score=True,\n",
       "       scoring=None, verbose=3)"
      ]
     },
     "execution_count": 24,
     "metadata": {},
     "output_type": "execute_result"
    }
   ],
   "source": [
    "from sklearn.model_selection import GridSearchCV\n",
    "parametr={'kernel':['rbf'],'C':[10, 100, 1000,10000]}\n",
    "model_rbf=GridSearchCV(estimator=SVC(),param_grid=parametr,verbose=3)\n",
    "model_rbf.fit(features_train_1per,labels_train_1per)"
   ]
  },
  {
   "cell_type": "code",
   "execution_count": 27,
   "metadata": {},
   "outputs": [
    {
     "name": "stdout",
     "output_type": "stream",
     "text": [
      "{'kernel': 'rbf', 'C': 10000}\n",
      "score 0.892491467577\n"
     ]
    }
   ],
   "source": [
    "print model_rbf.best_params_\n",
    "print \"score\",model_rbf.score(features_test,labels_test)"
   ]
  },
  {
   "cell_type": "markdown",
   "metadata": {},
   "source": [
    "# rbf kernel with all the data set"
   ]
  },
  {
   "cell_type": "code",
   "execution_count": 28,
   "metadata": {
    "collapsed": true
   },
   "outputs": [],
   "source": [
    "model=SVC(kernel=\"rbf\",C=10000)"
   ]
  },
  {
   "cell_type": "code",
   "execution_count": 29,
   "metadata": {},
   "outputs": [
    {
     "data": {
      "text/plain": [
       "SVC(C=10000, cache_size=200, class_weight=None, coef0=0.0,\n",
       "  decision_function_shape=None, degree=3, gamma='auto', kernel='rbf',\n",
       "  max_iter=-1, probability=False, random_state=None, shrinking=True,\n",
       "  tol=0.001, verbose=False)"
      ]
     },
     "execution_count": 29,
     "metadata": {},
     "output_type": "execute_result"
    }
   ],
   "source": [
    "model.fit(features_train,labels_train)"
   ]
  },
  {
   "cell_type": "code",
   "execution_count": 31,
   "metadata": {},
   "outputs": [
    {
     "name": "stdout",
     "output_type": "stream",
     "text": [
      "score: 0.990898748578\n"
     ]
    }
   ],
   "source": [
    "print \"score:\",model.score(features_test,labels_test)"
   ]
  },
  {
   "cell_type": "code",
   "execution_count": 33,
   "metadata": {
    "collapsed": true
   },
   "outputs": [],
   "source": [
    "prediction=model.predict(features_test)\n"
   ]
  },
  {
   "cell_type": "code",
   "execution_count": 36,
   "metadata": {},
   "outputs": [
    {
     "name": "stdout",
     "output_type": "stream",
     "text": [
      "10: 1 26: 0 50: 1\n"
     ]
    }
   ],
   "source": [
    "print \"10:\",prediction[10],\"26:\",prediction[26],\"50:\",prediction[50]"
   ]
  },
  {
   "cell_type": "code",
   "execution_count": 37,
   "metadata": {},
   "outputs": [
    {
     "ename": "AttributeError",
     "evalue": "'numpy.ndarray' object has no attribute 'count'",
     "output_type": "error",
     "traceback": [
      "\u001b[0;31m---------------------------------------------------------------------------\u001b[0m",
      "\u001b[0;31mAttributeError\u001b[0m                            Traceback (most recent call last)",
      "\u001b[0;32m<ipython-input-37-630867aad93c>\u001b[0m in \u001b[0;36m<module>\u001b[0;34m()\u001b[0m\n\u001b[0;32m----> 1\u001b[0;31m \u001b[0;32mprint\u001b[0m \u001b[0mprediction\u001b[0m\u001b[0;34m.\u001b[0m\u001b[0mcount\u001b[0m\u001b[0;34m(\u001b[0m\u001b[0;36m1\u001b[0m\u001b[0;34m)\u001b[0m\u001b[0;34m\u001b[0m\u001b[0m\n\u001b[0m",
      "\u001b[0;31mAttributeError\u001b[0m: 'numpy.ndarray' object has no attribute 'count'"
     ]
    }
   ],
   "source": [
    "print prediction.co"
   ]
  }
 ],
 "metadata": {
  "kernelspec": {
   "display_name": "Python 2",
   "language": "python",
   "name": "python2"
  }
 },
 "nbformat": 4,
 "nbformat_minor": 2
}
